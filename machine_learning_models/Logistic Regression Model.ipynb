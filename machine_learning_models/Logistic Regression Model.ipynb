{
 "cells": [
  {
   "cell_type": "markdown",
   "metadata": {},
   "source": [
    "<h1 style=\"text-align: center\">Predicting Liklihood of Extinction</h1>\n",
    "<h3 style=\"text-align: center\">With Logistic Regression</h3>\n",
    "\n",
    "There are many endangered languages in the world today. Many that have already gone extinct. I would like to know what features cause a language to go extinct. \n",
    "\n",
    "There are many variables to consider when dissecting this problem and I by no means will have a definitive answer. This problem may not even be a problem which can be solved by machine learning, nonetheless I’d like to state my hypothesis and go over try and predict what makes a langague extinct?"
   ]
  },
  {
   "cell_type": "code",
   "execution_count": 34,
   "metadata": {
    "collapsed": false
   },
   "outputs": [
    {
     "name": "stdout",
     "output_type": "stream",
     "text": [
      "(1933, 160)\n",
      "(1933,)\n"
     ]
    }
   ],
   "source": [
    "import numpy as np\n",
    "import pandas as pd\n",
    "import scipy.stats as stats\n",
    "import matplotlib.pyplot as plt\n",
    "import seaborn as sns\n",
    "\n",
    "from sklearn.linear_model import LogisticRegression\n",
    "\n",
    "from sklearn.model_selection import train_test_split\n",
    "from sklearn.model_selection import cross_val_score\n",
    "from sklearn.model_selection import GridSearchCV\n",
    "\n",
    "from sklearn.metrics import roc_curve\n",
    "from sklearn.metrics import roc_auc_score\n",
    "from sklearn.metrics import confusion_matrix, classification_report\n",
    "from sklearn.metrics import accuracy_score\n",
    "\n",
    "from sklearn.utils import resample\n",
    "\n",
    "sns.set()\n",
    "%matplotlib inline\n",
    "\n",
    "endangered_languages = pd.read_csv('../data_sets/endangered_languages_ML.csv')\n",
    "X = endangered_languages.drop(['Language', 'Extinct'], axis=1)\n",
    "y = endangered_languages['Extinct']\n",
    "print(X.shape)\n",
    "print(y.shape)"
   ]
  },
  {
   "cell_type": "code",
   "execution_count": 35,
   "metadata": {
    "collapsed": false
   },
   "outputs": [
    {
     "name": "stdout",
     "output_type": "stream",
     "text": [
      "Class 0: 1740\n",
      "Class 1: 193\n",
      "Proportion: 9.02 : 1\n"
     ]
    },
    {
     "data": {
      "image/png": "[encoded data removed]",
      "text/plain": [
       "<Figure size 432x288 with 1 Axes>"
      ]
     },
     "metadata": {
      "needs_background": "light"
     },
     "output_type": "display_data"
    }
   ],
   "source": [
    "target_count = y.value_counts()\n",
    "print('Class 0:', target_count[0])\n",
    "print('Class 1:', target_count[1])\n",
    "print('Proportion:', round(target_count[0] / target_count[1], 2), ': 1')\n",
    "\n",
    "target_count.plot(kind='bar', title='Count (target)', color=['b', 'g']);"
   ]
  },
  {
   "cell_type": "markdown",
   "metadata": {},
   "source": [
    "A quick glance at what classes I'm trying to predict using the my logistic regression model, I notice that the target classes are quite imbalanced. Taking a look at the graph, we can see that the number of target extinct language class (1) is small compared to the number of target non-extinct language class (0). Approximately a 9 to 1 imbalance. So we can do some data resampling to correct this issue before running the model on the data.\n",
    "\n",
    "One of the major issues with this not being handled is that any simple metrics used to evaluate the model can be misleading. In a dataset with highly unbalanced classes, if the classifier always \"predicts\" the most common class without performing any analysis of the features, it will still have a high accuracy rate."
   ]
  },
  {
   "cell_type": "markdown",
   "metadata": {},
   "source": [
    "<h2>Balancing the data:</h2>\n",
    "\n",
    "Up-sampling is the process of randomly duplicating observations from the minority class in order to reinforce its signal.There are several heuristics for doing so, but the most common way is to simply resample with replacement."
   ]
  },
  {
   "cell_type": "code",
   "execution_count": 8,
   "metadata": {
    "collapsed": false
   },
   "outputs": [
    {
     "data": {
      "text/plain": [
       "1    1740\n",
       "0    1740\n",
       "Name: Extinct, dtype: int64"
      ]
     },
     "execution_count": 8,
     "metadata": {},
     "output_type": "execute_result"
    }
   ],
   "source": [
    "df_majority = endangered_languages[endangered_languages['Extinct'] == 0]\n",
    "df_minority = endangered_languages[endangered_languages['Extinct'] == 1]\n",
    " \n",
    "# Upsample minority class\n",
    "df_minority_upsampled = resample(df_minority, \n",
    "                                  replace=True,     # sample with replacement\n",
    "                                  n_samples=1740,    # to match majority class\n",
    "                                  random_state=123) # reproducible results\n",
    " \n",
    "# Combine majority class with upsampled minority class\n",
    "df_upsampled = pd.concat([df_majority, df_minority_upsampled])\n",
    " \n",
    "# Display new class counts\n",
    "df_upsampled['Extinct'].value_counts()"
   ]
  },
  {
   "cell_type": "code",
   "execution_count": 9,
   "metadata": {
    "collapsed": true
   },
   "outputs": [],
   "source": [
    "log_reg = LogisticRegression(solver='lbfgs')"
   ]
  },
  {
   "cell_type": "code",
   "execution_count": 10,
   "metadata": {
    "collapsed": false
   },
   "outputs": [
    {
     "name": "stdout",
     "output_type": "stream",
     "text": [
      "(3480, 160)\n",
      "(3480,)\n"
     ]
    }
   ],
   "source": [
    "X = df_upsampled.drop(['Language', 'Extinct'], axis=1)\n",
    "y = df_upsampled['Extinct']\n",
    "print(X.shape)\n",
    "print(y.shape)"
   ]
  },
  {
   "cell_type": "code",
   "execution_count": 11,
   "metadata": {
    "collapsed": true
   },
   "outputs": [],
   "source": [
    "X_train, X_test, y_train, y_test = train_test_split(X, y, test_size=0.3, random_state=33)"
   ]
  },
  {
   "cell_type": "code",
   "execution_count": 12,
   "metadata": {
    "collapsed": false
   },
   "outputs": [
    {
     "name": "stdout",
     "output_type": "stream",
     "text": [
      "[1]\n",
      "0.514367816091954\n"
     ]
    }
   ],
   "source": [
    "log_reg.fit(X_train, y_train)\n",
    "y_pred = log_reg.predict(X_test)\n",
    "\n",
    "# How many classes is our model predicting?\n",
    "print('Clsses Predicted: ', np.unique(y_pred))\n",
    "\n",
    "# How's our accuracy now?\n",
    "print('Accuracty: ', accuracy_score(y_test, y_pred))"
   ]
  },
  {
   "cell_type": "markdown",
   "metadata": {},
   "source": [
    "While the accuracy seems about right, our model is only predicting class 1. Which means it's completely ignoring the non-extinct langauge class in favor of the extinct class. This may be due to upsampling which as I said above duplicates the minority class to reinforce it's signal. I'll try downsampling next, with hopes of a better accuracy score."
   ]
  },
  {
   "cell_type": "code",
   "execution_count": 13,
   "metadata": {
    "collapsed": false
   },
   "outputs": [
    {
     "data": {
      "text/plain": [
       "1    193\n",
       "0    193\n",
       "Name: Extinct, dtype: int64"
      ]
     },
     "execution_count": 13,
     "metadata": {},
     "output_type": "execute_result"
    }
   ],
   "source": [
    "# Downsample majority class\n",
    "df_majority_downsampled = resample(df_majority, \n",
    "                                 replace=False,    # sample without replacement\n",
    "                                 n_samples=193,     # to match minority class\n",
    "                                 random_state=123) # reproducible results\n",
    " \n",
    "# Combine minority class with downsampled majority class\n",
    "df_downsampled = pd.concat([df_majority_downsampled, df_minority])\n",
    " \n",
    "# Display new class counts\n",
    "df_downsampled['Extinct'].value_counts()"
   ]
  },
  {
   "cell_type": "code",
   "execution_count": 14,
   "metadata": {
    "collapsed": false
   },
   "outputs": [
    {
     "name": "stdout",
     "output_type": "stream",
     "text": [
      "(386, 160)\n",
      "(386,)\n"
     ]
    }
   ],
   "source": [
    "X = df_downsampled.drop(['Language', 'Extinct'], axis=1)\n",
    "y = df_downsampled['Extinct']\n",
    "print(X.shape)\n",
    "print(y.shape)"
   ]
  },
  {
   "cell_type": "code",
   "execution_count": 16,
   "metadata": {
    "collapsed": true
   },
   "outputs": [],
   "source": [
    "X_train, X_test, y_train, y_test = train_test_split(X, y, test_size=0.3, random_state=33)"
   ]
  },
  {
   "cell_type": "code",
   "execution_count": 17,
   "metadata": {
    "collapsed": false
   },
   "outputs": [
    {
     "name": "stdout",
     "output_type": "stream",
     "text": [
      "[1]\n",
      "0.5775862068965517\n"
     ]
    }
   ],
   "source": [
    "log_reg.fit(X_train, y_train)\n",
    "y_pred = log_reg.predict(X_test)\n",
    "\n",
    "# How many classes is our model predicting?\n",
    "print('Clsses Predicted: ', np.unique(y_pred))\n",
    "\n",
    "# How's our accuracy now?\n",
    "print('Accuracty: ', accuracy_score(y_test, y_pred))"
   ]
  },
  {
   "cell_type": "markdown",
   "metadata": {},
   "source": [
    "<h2>Scaling the Data:</h2>\n",
    "\n",
    "The downsampled data recieved a better accuracy score, but still is misleading as the model once again only predicts 1 class. Let's see if standardizing the data before downsampling helps. Using RobustScaler, I will attempt to minimize the effect of outliers."
   ]
  },
  {
   "cell_type": "code",
   "execution_count": 18,
   "metadata": {
    "collapsed": false
   },
   "outputs": [
    {
     "data": {
      "text/plain": [
       "(1933, 161)"
      ]
     },
     "execution_count": 18,
     "metadata": {},
     "output_type": "execute_result"
    }
   ],
   "source": [
    "from sklearn.preprocessing import RobustScaler\n",
    "\n",
    "scaler = RobustScaler(quantile_range=(25, 75))\n",
    "col_names = endangered_languages.columns\n",
    "\n",
    "col_list = list(col_names)\n",
    "col_list.pop(0)\n",
    "\n",
    "X = endangered_languages.drop(['Language'], axis=1)\n",
    "\n",
    "scaled_langauges = scaler.fit_transform(X)\n",
    "\n",
    "scaled_df = pd.DataFrame(scaled_langauges, columns=col_list)\n",
    "\n",
    "scaled_df.shape"
   ]
  },
  {
   "cell_type": "code",
   "execution_count": 24,
   "metadata": {
    "collapsed": false
   },
   "outputs": [
    {
     "data": {
      "text/plain": [
       "1.0    193\n",
       "0.0    193\n",
       "Name: Extinct, dtype: int64"
      ]
     },
     "execution_count": 24,
     "metadata": {},
     "output_type": "execute_result"
    }
   ],
   "source": [
    "df_majority = scaled_df[scaled_df['Extinct'] == 0]\n",
    "df_minority = scaled_df[scaled_df['Extinct'] == 1]\n",
    "\n",
    "# Downsample majority class\n",
    "df_majority_downsampled = resample(df_majority, \n",
    "                                 replace=False,    # sample without replacement\n",
    "                                 n_samples=193,     # to match minority class\n",
    "                                 random_state=123) # reproducible results\n",
    " \n",
    "# Combine minority class with downsampled majority class\n",
    "df_downsampled = pd.concat([df_majority_downsampled, df_minority])\n",
    " \n",
    "# Display new class counts\n",
    "df_downsampled['Extinct'].value_counts()"
   ]
  },
  {
   "cell_type": "code",
   "execution_count": 25,
   "metadata": {
    "collapsed": false
   },
   "outputs": [
    {
     "name": "stdout",
     "output_type": "stream",
     "text": [
      "(386, 160)\n",
      "(386,)\n"
     ]
    }
   ],
   "source": [
    "X = df_downsampled.drop(['Extinct'], axis=1)\n",
    "y = df_downsampled['Extinct']"
   ]
  },
  {
   "cell_type": "markdown",
   "metadata": {},
   "source": [
    "<h2>Spliting, Testing and Training:</h2>"
   ]
  },
  {
   "cell_type": "code",
   "execution_count": 26,
   "metadata": {
    "collapsed": true
   },
   "outputs": [],
   "source": [
    "X_train, X_test, y_train, y_test = train_test_split(X, y, test_size=0.3, random_state=33)"
   ]
  },
  {
   "cell_type": "code",
   "execution_count": 45,
   "metadata": {
    "collapsed": false
   },
   "outputs": [
    {
     "name": "stdout",
     "output_type": "stream",
     "text": [
      "Clsses Predicted:  [0. 1.]\n",
      "Accuracty:  0.5258620689655172\n"
     ]
    }
   ],
   "source": [
    "log_reg.fit(X_train, y_train)\n",
    "y_pred = log_reg.predict(X_test)\n",
    "\n",
    "# How many classes is our model predicting?\n",
    "print('Clsses Predicted: ', np.unique(y_pred))\n",
    "\n",
    "# How's our accuracy now?\n",
    "print('Accuracty: ', accuracy_score(y_test, y_pred))"
   ]
  },
  {
   "cell_type": "markdown",
   "metadata": {},
   "source": [
    "The model's accuracy jumped through the roof! It's not predicting just one class anymore."
   ]
  },
  {
   "cell_type": "markdown",
   "metadata": {},
   "source": [
    "<h2>Performance Metrics:</h2>"
   ]
  },
  {
   "cell_type": "code",
   "execution_count": 28,
   "metadata": {
    "collapsed": false
   },
   "outputs": [
    {
     "name": "stdout",
     "output_type": "stream",
     "text": [
      "[[49  0]\n",
      " [ 1 66]]\n"
     ]
    }
   ],
   "source": [
    "print(confusion_matrix(y_test, y_pred))"
   ]
  },
  {
   "cell_type": "markdown",
   "metadata": {},
   "source": [
    "Let’s interpret these results.\n",
    "\n",
    "Out of the 49 extinct languages (first row), the classifier predicted correctly 49 of them.\n",
    "Out of the 67 non-extinct languages (second row), the classifier predicted correctly 66 of them.\n",
    "Out of all 116 languages, the classifier predicted correctly 115 of them"
   ]
  },
  {
   "cell_type": "code",
   "execution_count": 29,
   "metadata": {
    "collapsed": false
   },
   "outputs": [
    {
     "name": "stdout",
     "output_type": "stream",
     "text": [
      "              precision    recall  f1-score   support\n",
      "\n",
      "         0.0       0.98      1.00      0.99        49\n",
      "         1.0       1.00      0.99      0.99        67\n",
      "\n",
      "   micro avg       0.99      0.99      0.99       116\n",
      "   macro avg       0.99      0.99      0.99       116\n",
      "weighted avg       0.99      0.99      0.99       116\n",
      "\n"
     ]
    }
   ],
   "source": [
    "print(classification_report(y_test, y_pred))"
   ]
  },
  {
   "cell_type": "markdown",
   "metadata": {},
   "source": [
    "#### ROC Curve"
   ]
  },
  {
   "cell_type": "code",
   "execution_count": 30,
   "metadata": {
    "collapsed": false
   },
   "outputs": [
    {
     "data": {
      "image/png": "[encoded data removed]",
      "text/plain": [
       "<Figure size 432x288 with 1 Axes>"
      ]
     },
     "metadata": {
      "needs_background": "light"
     },
     "output_type": "display_data"
    }
   ],
   "source": [
    "y_pred_prob = log_reg.predict_proba(X_test)[:, 1]\n",
    "fpr, tpr, thresholds = roc_curve(y_test, y_pred_prob)\n",
    "plt.plot([0, 1], [0, 1], 'k--')\n",
    "plt.plot(fpr, tpr, label='Logistic Regression')\n",
    "plt.xlabel('False positive rate')\n",
    "plt.ylabel('True positive rate')\n",
    "plt.title('Logistic Regression ROC curve')\n",
    "plt.show()"
   ]
  },
  {
   "cell_type": "code",
   "execution_count": 38,
   "metadata": {
    "collapsed": false
   },
   "outputs": [
    {
     "data": {
      "text/plain": [
       "0.9957356076759062"
      ]
     },
     "execution_count": 38,
     "metadata": {},
     "output_type": "execute_result"
    }
   ],
   "source": [
    "roc_auc_score(y_test, y_pred_prob)"
   ]
  },
  {
   "cell_type": "markdown",
   "metadata": {},
   "source": [
    "<h2>Results... ?</h2>\n",
    "\n",
    "Our model appears to be an incredibily accurate classifier of these classes basesd on the data. However, I'm skeptical to it's performance. My dataset has a few features I feel contribute to the high variance in this regression problem. \n",
    "\n",
    "Features like 'Speakers' which correlate 100% with extinction rate. Plus the other hot-encoded endangerment level features. If a single observation in my data (a row) doesn't have a 1 for one of either vulnerable, definietly, severely or critical endangerment than it has a 1 for extinct. I'd like to run my model a few times over with some other features missing to see what results I come up with"
   ]
  },
  {
   "cell_type": "markdown",
   "metadata": {},
   "source": [
    "<h2>Feature Engineering</h2>\n",
    "\n",
    "I'll continue using the scaled downsampled data because that was the one that resulted in two classes being predicted but these variations will have some other features selected"
   ]
  },
  {
   "cell_type": "code",
   "execution_count": 39,
   "metadata": {
    "collapsed": false
   },
   "outputs": [
    {
     "name": "stdout",
     "output_type": "stream",
     "text": [
      "(386, 159)\n",
      "(386,)\n"
     ]
    }
   ],
   "source": [
    "X = df_downsampled.drop(['Speakers', 'Extinct'], axis=1)\n",
    "y = df_downsampled['Extinct']"
   ]
  },
  {
   "cell_type": "code",
   "execution_count": 40,
   "metadata": {
    "collapsed": false
   },
   "outputs": [
    {
     "name": "stdout",
     "output_type": "stream",
     "text": [
      "[0. 1.]\n",
      "1.0\n"
     ]
    }
   ],
   "source": [
    "X_train, X_test, y_train, y_test = train_test_split(X, y, test_size=0.3, random_state=33)\n",
    "\n",
    "log_reg.fit(X_train, y_train)\n",
    "y_pred = log_reg.predict(X_test)\n",
    "\n",
    "# How many classes is our model predicting?\n",
    "print('Clsses Predicted: ', np.unique(y_pred))\n",
    "\n",
    "# How's our accuracy now?\n",
    "print('Accuracty: ', accuracy_score(y_test, y_pred))"
   ]
  },
  {
   "cell_type": "markdown",
   "metadata": {},
   "source": [
    "Performing even better with speakers dropped... doesn't make sense. How about with the other level of endangerments dropped"
   ]
  },
  {
   "cell_type": "code",
   "execution_count": 46,
   "metadata": {
    "collapsed": false
   },
   "outputs": [
    {
     "name": "stdout",
     "output_type": "stream",
     "text": [
      "Clsses Predicted:  [0. 1.]\n",
      "Accuracty:  0.5258620689655172\n"
     ]
    }
   ],
   "source": [
    "X = df_downsampled.drop(['Speakers', 'Extinct', 'Critically endangered',\n",
    "       'Definitely endangered', 'Extinct', 'Severely endangered',\n",
    "       'Vulnerable'], axis=1)\n",
    "y = df_downsampled['Extinct']\n",
    "\n",
    "X_train, X_test, y_train, y_test = train_test_split(X, y, test_size=0.3, random_state=33)\n",
    "\n",
    "log_reg.fit(X_train, y_train)\n",
    "y_pred = log_reg.predict(X_test)\n",
    "\n",
    "# How many classes is our model predicting?\n",
    "print('Clsses Predicted: ', np.unique(y_pred))\n",
    "\n",
    "# How's our accuracy now?\n",
    "print('Accuracty: ', accuracy_score(y_test, y_pred))"
   ]
  },
  {
   "cell_type": "markdown",
   "metadata": {},
   "source": [
    "This makes some more sense as the model is actually having to do somre more work after not having these correlated features. I'll try removing one more which has a one to one ratio with the target class"
   ]
  },
  {
   "cell_type": "code",
   "execution_count": 47,
   "metadata": {
    "collapsed": false
   },
   "outputs": [
    {
     "name": "stdout",
     "output_type": "stream",
     "text": [
      "Clsses Predicted:  [0. 1.]\n",
      "Accuracty:  0.5431034482758621\n"
     ]
    }
   ],
   "source": [
    "X = df_downsampled.drop(['Speakers', 'Number of Countries Spoken', 'Extinct', 'Critically endangered',\n",
    "       'Definitely endangered', 'Extinct', 'Severely endangered',\n",
    "       'Vulnerable'], axis=1)\n",
    "y = df_downsampled['Extinct']\n",
    "\n",
    "X_train, X_test, y_train, y_test = train_test_split(X, y, test_size=0.3, random_state=33)\n",
    "\n",
    "log_reg.fit(X_train, y_train)\n",
    "y_pred = log_reg.predict(X_test)\n",
    "\n",
    "# How many classes is our model predicting?\n",
    "print('Clsses Predicted: ', np.unique(y_pred))\n",
    "\n",
    "# How's our accuracy now?\n",
    "print('Accuracty: ', accuracy_score(y_test, y_pred))"
   ]
  },
  {
   "cell_type": "markdown",
   "metadata": {},
   "source": [
    "Slowly raising it's accuracy. Let's boil down this data to the factors I believed from my hypothesis (which was that a low fertility rate, level of english proficiency and gdp could be factors leading to extinction. I found an interesting trend with the data. It does seem as though the features predict extinciton more and more if I include the level of endangerment. With model performance steadily increasing as the level of endangerment gets closer to extinction. "
   ]
  },
  {
   "cell_type": "markdown",
   "metadata": {},
   "source": [
    "### Vulnerable to Endangerment"
   ]
  },
  {
   "cell_type": "code",
   "execution_count": 56,
   "metadata": {
    "collapsed": false
   },
   "outputs": [
    {
     "name": "stdout",
     "output_type": "stream",
     "text": [
      "Clsses Predicted:  [0. 1.]\n",
      "Accuracty:  0.7327586206896551\n"
     ]
    }
   ],
   "source": [
    "X = df_downsampled[['Speakers', 'Fertility Rate Avg', '2018 Rank',\n",
    " '2018 Score', 'Number of Countries Spoken',\n",
    " 'GDP Average (Current US $)', 'Vulnerable']]\n",
    "y = df_downsampled['Extinct']\n",
    "\n",
    "X_train, X_test, y_train, y_test = train_test_split(X, y, test_size=0.3, random_state=33)\n",
    "\n",
    "log_reg.fit(X_train, y_train)\n",
    "y_pred = log_reg.predict(X_test)\n",
    "\n",
    "# How many classes is our model predicting?\n",
    "print('Clsses Predicted: ', np.unique(y_pred))\n",
    "\n",
    "# How's our accuracy now?\n",
    "print('Accuracty: ', accuracy_score(y_test, y_pred))"
   ]
  },
  {
   "cell_type": "markdown",
   "metadata": {},
   "source": [
    "### Definitely Endangered"
   ]
  },
  {
   "cell_type": "code",
   "execution_count": 57,
   "metadata": {
    "collapsed": false
   },
   "outputs": [
    {
     "name": "stdout",
     "output_type": "stream",
     "text": [
      "Clsses Predicted:  [0. 1.]\n",
      "Accuracty:  0.75\n"
     ]
    }
   ],
   "source": [
    "X = df_downsampled[['Speakers', 'Fertility Rate Avg', '2018 Rank',\n",
    " '2018 Score', 'Number of Countries Spoken',\n",
    " 'GDP Average (Current US $)', 'Definitely endangered']]\n",
    "y = df_downsampled['Extinct']\n",
    "\n",
    "X_train, X_test, y_train, y_test = train_test_split(X, y, test_size=0.3, random_state=33)\n",
    "\n",
    "log_reg.fit(X_train, y_train)\n",
    "y_pred = log_reg.predict(X_test)\n",
    "\n",
    "# How many classes is our model predicting?\n",
    "print('Clsses Predicted: ', np.unique(y_pred))\n",
    "\n",
    "# How's our accuracy now?\n",
    "print('Accuracty: ', accuracy_score(y_test, y_pred))"
   ]
  },
  {
   "cell_type": "markdown",
   "metadata": {},
   "source": [
    "### Severely Endangered"
   ]
  },
  {
   "cell_type": "code",
   "execution_count": 58,
   "metadata": {
    "collapsed": false
   },
   "outputs": [
    {
     "name": "stdout",
     "output_type": "stream",
     "text": [
      "Clsses Predicted:  [0. 1.]\n",
      "Accuracty:  0.7586206896551724\n"
     ]
    }
   ],
   "source": [
    "X = df_downsampled[['Speakers', 'Fertility Rate Avg', '2018 Rank',\n",
    " '2018 Score', 'Number of Countries Spoken',\n",
    " 'GDP Average (Current US $)', 'Severely endangered']]\n",
    "y = df_downsampled['Extinct']\n",
    "\n",
    "X_train, X_test, y_train, y_test = train_test_split(X, y, test_size=0.3, random_state=33)\n",
    "\n",
    "log_reg.fit(X_train, y_train)\n",
    "y_pred = log_reg.predict(X_test)\n",
    "\n",
    "# How many classes is our model predicting?\n",
    "print('Clsses Predicted: ', np.unique(y_pred))\n",
    "\n",
    "# How's our accuracy now?\n",
    "print('Accuracty: ', accuracy_score(y_test, y_pred))"
   ]
  },
  {
   "cell_type": "markdown",
   "metadata": {},
   "source": [
    "### Critically Endangered"
   ]
  },
  {
   "cell_type": "code",
   "execution_count": 62,
   "metadata": {
    "collapsed": false
   },
   "outputs": [
    {
     "name": "stdout",
     "output_type": "stream",
     "text": [
      "Clsses Predicted:  [0. 1.]\n",
      "Accuracty:  0.8103448275862069\n"
     ]
    }
   ],
   "source": [
    "X = df_downsampled[['Speakers', 'Fertility Rate Avg', '2018 Rank',\n",
    " '2018 Score', 'Number of Countries Spoken',\n",
    " 'GDP Average (Current US $)', 'Critically endangered']]\n",
    "y = df_downsampled['Extinct']\n",
    "\n",
    "X_train, X_test, y_train, y_test = train_test_split(X, y, test_size=0.3, random_state=33)\n",
    "\n",
    "log_reg.fit(X_train, y_train)\n",
    "y_pred = log_reg.predict(X_test)\n",
    "\n",
    "# How many classes is our model predicting?\n",
    "print('Clsses Predicted: ', np.unique(y_pred))\n",
    "\n",
    "# How's our accuracy now?\n",
    "print('Accuracty: ', accuracy_score(y_test, y_pred))"
   ]
  },
  {
   "cell_type": "markdown",
   "metadata": {},
   "source": [
    "Although I couldn't quite put my finger on it and I do feel as though there's much more to be gleaned from this data. At least, we do see an upward trend in accuracy as the model's main features were engineered for. Lets run the metrics on the critically endangered model"
   ]
  },
  {
   "cell_type": "markdown",
   "metadata": {},
   "source": [
    "<h2>New Performance Metrics</h2>"
   ]
  },
  {
   "cell_type": "code",
   "execution_count": 64,
   "metadata": {
    "collapsed": false
   },
   "outputs": [
    {
     "name": "stdout",
     "output_type": "stream",
     "text": [
      "[[28 21]\n",
      " [ 1 66]]\n"
     ]
    }
   ],
   "source": [
    "print(confusion_matrix(y_test, y_pred))"
   ]
  },
  {
   "cell_type": "markdown",
   "metadata": {},
   "source": [
    "Out of the 49 extinct languages (first row), the classifier predicted correctly 28 of them.\n",
    "Out of the 67 non-extinct languages (second row), the classifier predicted correctly 66 of them."
   ]
  },
  {
   "cell_type": "code",
   "execution_count": 69,
   "metadata": {
    "collapsed": false
   },
   "outputs": [
    {
     "name": "stdout",
     "output_type": "stream",
     "text": [
      "              precision    recall  f1-score   support\n",
      "\n",
      "         0.0       0.97      0.57      0.72        49\n",
      "         1.0       0.76      0.99      0.86        67\n",
      "\n",
      "   micro avg       0.81      0.81      0.81       116\n",
      "   macro avg       0.86      0.78      0.79       116\n",
      "weighted avg       0.85      0.81      0.80       116\n",
      "\n"
     ]
    }
   ],
   "source": [
    "print(classification_report(y_test, y_pred))"
   ]
  },
  {
   "cell_type": "code",
   "execution_count": 70,
   "metadata": {
    "collapsed": false
   },
   "outputs": [
    {
     "data": {
      "image/png": "[encoded data removed]",
      "text/plain": [
       "<Figure size 432x288 with 1 Axes>"
      ]
     },
     "metadata": {
      "needs_background": "light"
     },
     "output_type": "display_data"
    }
   ],
   "source": [
    "y_pred_prob = log_reg.predict_proba(X_test)[:, 1]\n",
    "fpr, tpr, thresholds = roc_curve(y_test, y_pred_prob)\n",
    "plt.plot([0, 1], [0, 1], 'k--')\n",
    "plt.plot(fpr, tpr, label='Logistic Regression')\n",
    "plt.xlabel('False positive rate')\n",
    "plt.ylabel('True positive rate')\n",
    "plt.title('Logistic Regression ROC curve')\n",
    "plt.show()"
   ]
  },
  {
   "cell_type": "code",
   "execution_count": 71,
   "metadata": {
    "collapsed": false
   },
   "outputs": [
    {
     "data": {
      "text/plain": [
       "0.8696314346634176"
      ]
     },
     "execution_count": 71,
     "metadata": {},
     "output_type": "execute_result"
    }
   ],
   "source": [
    "roc_auc_score(y_test, y_pred_prob)"
   ]
  },
  {
   "cell_type": "markdown",
   "metadata": {},
   "source": [
    "<h2>K-folds Cross Validation</h2>"
   ]
  },
  {
   "cell_type": "code",
   "execution_count": 72,
   "metadata": {
    "collapsed": false
   },
   "outputs": [
    {
     "name": "stdout",
     "output_type": "stream",
     "text": [
      "[0.87002653 0.87034483 0.99724138 0.95862069 0.95714286]\n"
     ]
    }
   ],
   "source": [
    "cv_scores = cross_val_score(log_reg, X_train, y_train, cv=5, scoring='roc_auc')\n",
    "print(cv_scores)"
   ]
  },
  {
   "cell_type": "markdown",
   "metadata": {},
   "source": [
    "## Hyperparameter tuning with GridSearchCV"
   ]
  },
  {
   "cell_type": "code",
   "execution_count": 87,
   "metadata": {
    "collapsed": false
   },
   "outputs": [
    {
     "name": "stdout",
     "output_type": "stream",
     "text": [
      "Tuned Logistic Regression Parameters: {'C': 163789.3706954068}\n",
      "Best score is 0.9740740740740741\n"
     ]
    },
    {
     "name": "stderr",
     "output_type": "stream",
     "text": [
      "/Library/Frameworks/Python.framework/Versions/3.6/lib/python3.6/site-packages/sklearn/model_selection/_search.py:841: DeprecationWarning: The default of the `iid` parameter will change from True to False in version 0.22 and will be removed in 0.24. This will change numeric results when test-set sizes are unequal.\n",
      "  DeprecationWarning)\n"
     ]
    }
   ],
   "source": [
    "# Setup the hyperparameter grid\n",
    "c_space = np.logspace(-5, 8, 15)\n",
    "param_grid = {'C': c_space}\n",
    "\n",
    "# Instantiate the GridSearchCV object: logreg_cv\n",
    "logreg_cv = GridSearchCV(log_reg, param_grid, cv=5)\n",
    "\n",
    "# Fit it to the data\n",
    "logreg_cv.fit(X_train, y_train)\n",
    "\n",
    "# Print the tuned parameters and score\n",
    "print(\"Tuned Logistic Regression Parameters: {}\".format(logreg_cv.best_params_)) \n",
    "print(\"Best score is {}\".format(logreg_cv.best_score_))"
   ]
  },
  {
   "cell_type": "code",
   "execution_count": null,
   "metadata": {
    "collapsed": true
   },
   "outputs": [],
   "source": [
    "<h2>With optimized C</h2>"
   ]
  },
  {
   "cell_type": "code",
   "execution_count": 80,
   "metadata": {
    "collapsed": false
   },
   "outputs": [
    {
     "name": "stdout",
     "output_type": "stream",
     "text": [
      "Clsses Predicted:  [0. 1.]\n",
      "Accuracty:  0.9396551724137931\n"
     ]
    }
   ],
   "source": [
    "log_reg = LogisticRegression(C=163789, solver='lbfgs')\n",
    "\n",
    "X = df_downsampled[['Speakers', 'Fertility Rate Avg', '2018 Rank',\n",
    " '2018 Score', 'Number of Countries Spoken',\n",
    " 'GDP Average (Current US $)', 'Critically endangered']]\n",
    "y = df_downsampled['Extinct']\n",
    "\n",
    "X_train, X_test, y_train, y_test = train_test_split(X, y, test_size=0.3, random_state=33)\n",
    "\n",
    "log_reg.fit(X_train, y_train)\n",
    "y_pred = log_reg.predict(X_test)\n",
    "\n",
    "# How many classes is our model predicting?\n",
    "print('Clsses Predicted: ', np.unique(y_pred))\n",
    "\n",
    "# How's our accuracy now?\n",
    "print('Accuracty: ', accuracy_score(y_test, y_pred))"
   ]
  },
  {
   "cell_type": "markdown",
   "metadata": {},
   "source": [
    "<h1 style='text-align: center'>Conclusion</h2>"
   ]
  },
  {
   "cell_type": "code",
   "execution_count": null,
   "metadata": {
    "collapsed": true
   },
   "outputs": [],
   "source": []
  }
 ],
 "metadata": {
  "kernelspec": {
   "display_name": "Python 3",
   "language": "python",
   "name": "python3"
  },
  "language_info": {
   "codemirror_mode": {
    "name": "ipython",
    "version": 3
   },
   "file_extension": ".py",
   "mimetype": "text/x-python",
   "name": "python",
   "nbconvert_exporter": "python",
   "pygments_lexer": "ipython3",
   "version": "3.6.3"
  }
 },
 "nbformat": 4,
 "nbformat_minor": 2
}
