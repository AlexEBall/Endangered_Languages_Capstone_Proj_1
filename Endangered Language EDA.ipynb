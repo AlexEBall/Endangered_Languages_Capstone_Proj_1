{
 "cells": [
  {
   "cell_type": "code",
   "execution_count": 1,
   "metadata": {
    "collapsed": true
   },
   "outputs": [],
   "source": [
    "import pandas as pd\n",
    "\n",
    "endangered_languages = pd.read_csv(\n",
    "    './data_sets/endangered_languages_final.csv', index_col=0)"
   ]
  },
  {
   "cell_type": "code",
   "execution_count": 2,
   "metadata": {
    "collapsed": false
   },
   "outputs": [
    {
     "data": {
      "text/html": [
       "<div>\n",
       "<style scoped>\n",
       "    .dataframe tbody tr th:only-of-type {\n",
       "        vertical-align: middle;\n",
       "    }\n",
       "\n",
       "    .dataframe tbody tr th {\n",
       "        vertical-align: top;\n",
       "    }\n",
       "\n",
       "    .dataframe thead th {\n",
       "        text-align: right;\n",
       "    }\n",
       "</style>\n",
       "<table border=\"1\" class=\"dataframe\">\n",
       "  <thead>\n",
       "    <tr style=\"text-align: right;\">\n",
       "      <th></th>\n",
       "      <th>Countries Where Spoken</th>\n",
       "      <th>Country Code</th>\n",
       "      <th>Degree of Endangerment</th>\n",
       "      <th>Speakers</th>\n",
       "      <th>Latitude</th>\n",
       "      <th>Longitude</th>\n",
       "      <th>Fertility Rate Avg</th>\n",
       "      <th>2018 Rank</th>\n",
       "      <th>2018 Score</th>\n",
       "      <th>2018 Band</th>\n",
       "      <th>Number of Countries Spoken</th>\n",
       "      <th>GDP Average (Current US $)</th>\n",
       "    </tr>\n",
       "    <tr>\n",
       "      <th>Language</th>\n",
       "      <th></th>\n",
       "      <th></th>\n",
       "      <th></th>\n",
       "      <th></th>\n",
       "      <th></th>\n",
       "      <th></th>\n",
       "      <th></th>\n",
       "      <th></th>\n",
       "      <th></th>\n",
       "      <th></th>\n",
       "      <th></th>\n",
       "      <th></th>\n",
       "    </tr>\n",
       "  </thead>\n",
       "  <tbody>\n",
       "    <tr>\n",
       "      <th>South Italian</th>\n",
       "      <td>Italy</td>\n",
       "      <td>ITA</td>\n",
       "      <td>Vulnerable</td>\n",
       "      <td>7500000.0</td>\n",
       "      <td>40.9798</td>\n",
       "      <td>15.2490</td>\n",
       "      <td>1.714074</td>\n",
       "      <td>35.0</td>\n",
       "      <td>55.77</td>\n",
       "      <td>Moderate Proficiency</td>\n",
       "      <td>1</td>\n",
       "      <td>9.443374e+11</td>\n",
       "    </tr>\n",
       "    <tr>\n",
       "      <th>Sicilian</th>\n",
       "      <td>Italy</td>\n",
       "      <td>ITA</td>\n",
       "      <td>Vulnerable</td>\n",
       "      <td>5000000.0</td>\n",
       "      <td>37.4399</td>\n",
       "      <td>14.5019</td>\n",
       "      <td>1.714074</td>\n",
       "      <td>35.0</td>\n",
       "      <td>55.77</td>\n",
       "      <td>Moderate Proficiency</td>\n",
       "      <td>1</td>\n",
       "      <td>9.443374e+11</td>\n",
       "    </tr>\n",
       "    <tr>\n",
       "      <th>Lombard</th>\n",
       "      <td>Italy, Switzerland</td>\n",
       "      <td>ITA</td>\n",
       "      <td>Definitely endangered</td>\n",
       "      <td>3500000.0</td>\n",
       "      <td>45.7215</td>\n",
       "      <td>9.3273</td>\n",
       "      <td>1.714074</td>\n",
       "      <td>35.0</td>\n",
       "      <td>55.77</td>\n",
       "      <td>Moderate Proficiency</td>\n",
       "      <td>2</td>\n",
       "      <td>9.443374e+11</td>\n",
       "    </tr>\n",
       "    <tr>\n",
       "      <th>Emilian-Romagnol</th>\n",
       "      <td>Italy, San Marino</td>\n",
       "      <td>ITA</td>\n",
       "      <td>Definitely endangered</td>\n",
       "      <td>2000000.0</td>\n",
       "      <td>44.1270</td>\n",
       "      <td>12.0739</td>\n",
       "      <td>1.714074</td>\n",
       "      <td>35.0</td>\n",
       "      <td>55.77</td>\n",
       "      <td>Moderate Proficiency</td>\n",
       "      <td>2</td>\n",
       "      <td>9.443374e+11</td>\n",
       "    </tr>\n",
       "    <tr>\n",
       "      <th>Piedmontese</th>\n",
       "      <td>Italy</td>\n",
       "      <td>ITA</td>\n",
       "      <td>Definitely endangered</td>\n",
       "      <td>2000000.0</td>\n",
       "      <td>45.2013</td>\n",
       "      <td>7.8662</td>\n",
       "      <td>1.714074</td>\n",
       "      <td>35.0</td>\n",
       "      <td>55.77</td>\n",
       "      <td>Moderate Proficiency</td>\n",
       "      <td>1</td>\n",
       "      <td>9.443374e+11</td>\n",
       "    </tr>\n",
       "  </tbody>\n",
       "</table>\n",
       "</div>"
      ],
      "text/plain": [
       "                 Countries Where Spoken Country Code Degree of Endangerment  \\\n",
       "Language                                                                      \n",
       "South Italian                     Italy          ITA             Vulnerable   \n",
       "Sicilian                          Italy          ITA             Vulnerable   \n",
       "Lombard              Italy, Switzerland          ITA  Definitely endangered   \n",
       "Emilian-Romagnol      Italy, San Marino          ITA  Definitely endangered   \n",
       "Piedmontese                       Italy          ITA  Definitely endangered   \n",
       "\n",
       "                   Speakers  Latitude  Longitude  Fertility Rate Avg  \\\n",
       "Language                                                               \n",
       "South Italian     7500000.0   40.9798    15.2490            1.714074   \n",
       "Sicilian          5000000.0   37.4399    14.5019            1.714074   \n",
       "Lombard           3500000.0   45.7215     9.3273            1.714074   \n",
       "Emilian-Romagnol  2000000.0   44.1270    12.0739            1.714074   \n",
       "Piedmontese       2000000.0   45.2013     7.8662            1.714074   \n",
       "\n",
       "                  2018 Rank  2018 Score             2018 Band  \\\n",
       "Language                                                        \n",
       "South Italian          35.0       55.77  Moderate Proficiency   \n",
       "Sicilian               35.0       55.77  Moderate Proficiency   \n",
       "Lombard                35.0       55.77  Moderate Proficiency   \n",
       "Emilian-Romagnol       35.0       55.77  Moderate Proficiency   \n",
       "Piedmontese            35.0       55.77  Moderate Proficiency   \n",
       "\n",
       "                  Number of Countries Spoken  GDP Average (Current US $)  \n",
       "Language                                                                  \n",
       "South Italian                              1                9.443374e+11  \n",
       "Sicilian                                   1                9.443374e+11  \n",
       "Lombard                                    2                9.443374e+11  \n",
       "Emilian-Romagnol                           2                9.443374e+11  \n",
       "Piedmontese                                1                9.443374e+11  "
      ]
     },
     "execution_count": 2,
     "metadata": {},
     "output_type": "execute_result"
    }
   ],
   "source": [
    "endangered_languages.head()"
   ]
  },
  {
   "cell_type": "code",
   "execution_count": 3,
   "metadata": {
    "collapsed": false
   },
   "outputs": [
    {
     "name": "stdout",
     "output_type": "stream",
     "text": [
      "<class 'pandas.core.frame.DataFrame'>\n",
      "Index: 2697 entries, South Italian to Scanian\n",
      "Data columns (total 12 columns):\n",
      "Countries Where Spoken        2697 non-null object\n",
      "Country Code                  2697 non-null object\n",
      "Degree of Endangerment        2697 non-null object\n",
      "Speakers                      2514 non-null float64\n",
      "Latitude                      2694 non-null float64\n",
      "Longitude                     2694 non-null float64\n",
      "Fertility Rate Avg            2697 non-null float64\n",
      "2018 Rank                     2097 non-null float64\n",
      "2018 Score                    2097 non-null float64\n",
      "2018 Band                     2097 non-null object\n",
      "Number of Countries Spoken    2697 non-null int64\n",
      "GDP Average (Current US $)    2697 non-null float64\n",
      "dtypes: float64(7), int64(1), object(4)\n",
      "memory usage: 273.9+ KB\n"
     ]
    }
   ],
   "source": [
    "endangered_languages.info()"
   ]
  },
  {
   "cell_type": "code",
   "execution_count": 4,
   "metadata": {
    "collapsed": false
   },
   "outputs": [],
   "source": [
    "missing_rank = endangered_languages[endangered_languages['2018 Rank'].isnull()]"
   ]
  },
  {
   "cell_type": "code",
   "execution_count": 5,
   "metadata": {
    "collapsed": false
   },
   "outputs": [
    {
     "data": {
      "text/plain": [
       "array(['ISR', 'NER', 'NPL', 'MLI', 'ARM', 'BTN', 'MDA', 'LVA', 'KEN',\n",
       "       'TJK', 'SDN', 'LAO', 'YEM', 'GUM', 'EST', 'GRL', 'TZA', 'LSO',\n",
       "       'GUY', 'GNB', 'BWA', 'UGA', 'PYF', 'BLZ', 'GIN', 'GHA', 'PNG',\n",
       "       'TCD', 'PRY', 'BFA', 'CAF', 'FSM', 'NAM', 'CMR', 'COG', 'MRT',\n",
       "       'GAB', 'ERI', 'FJI', 'TLS', 'BEN', 'CIV', 'SUR', 'CYP', 'SLB',\n",
       "       'NCL', 'VUT', 'PLW', 'MNG', 'SLE'], dtype=object)"
      ]
     },
     "execution_count": 5,
     "metadata": {},
     "output_type": "execute_result"
    }
   ],
   "source": [
    "missing_rank['Country Code'].unique()"
   ]
  },
  {
   "cell_type": "code",
   "execution_count": 6,
   "metadata": {
    "collapsed": false
   },
   "outputs": [],
   "source": [
    "import plotly.plotly as py\n",
    "import cufflinks as cf"
   ]
  },
  {
   "cell_type": "code",
   "execution_count": 7,
   "metadata": {
    "collapsed": false
   },
   "outputs": [],
   "source": [
    "%matplotlib inline"
   ]
  },
  {
   "cell_type": "code",
   "execution_count": 8,
   "metadata": {
    "collapsed": true
   },
   "outputs": [],
   "source": [
    "import plotly.graph_objs as go"
   ]
  },
  {
   "cell_type": "code",
   "execution_count": 9,
   "metadata": {
    "collapsed": true
   },
   "outputs": [],
   "source": [
    "speakers = endangered_languages[endangered_languages['Speakers'].notnull()]"
   ]
  },
  {
   "cell_type": "code",
   "execution_count": 10,
   "metadata": {
    "collapsed": false
   },
   "outputs": [],
   "source": [
    "# data = [go.Bar(\n",
    "#             x=speakers['Language'],\n",
    "#             y=speakers['Speakers']\n",
    "#     )]\n",
    "# py.iplot(data, filename='basic-bar')"
   ]
  },
  {
   "cell_type": "code",
   "execution_count": 11,
   "metadata": {
    "collapsed": false
   },
   "outputs": [
    {
     "data": {
      "text/html": [
       "<div>\n",
       "<style scoped>\n",
       "    .dataframe tbody tr th:only-of-type {\n",
       "        vertical-align: middle;\n",
       "    }\n",
       "\n",
       "    .dataframe tbody tr th {\n",
       "        vertical-align: top;\n",
       "    }\n",
       "\n",
       "    .dataframe thead th {\n",
       "        text-align: right;\n",
       "    }\n",
       "</style>\n",
       "<table border=\"1\" class=\"dataframe\">\n",
       "  <thead>\n",
       "    <tr style=\"text-align: right;\">\n",
       "      <th></th>\n",
       "      <th>Countries Where Spoken</th>\n",
       "      <th>Country Code</th>\n",
       "      <th>Degree of Endangerment</th>\n",
       "      <th>Speakers</th>\n",
       "      <th>Latitude</th>\n",
       "      <th>Longitude</th>\n",
       "      <th>Fertility Rate Avg</th>\n",
       "      <th>2018 Rank</th>\n",
       "      <th>2018 Score</th>\n",
       "      <th>2018 Band</th>\n",
       "      <th>Number of Countries Spoken</th>\n",
       "      <th>GDP Average (Current US $)</th>\n",
       "    </tr>\n",
       "    <tr>\n",
       "      <th>Language</th>\n",
       "      <th></th>\n",
       "      <th></th>\n",
       "      <th></th>\n",
       "      <th></th>\n",
       "      <th></th>\n",
       "      <th></th>\n",
       "      <th></th>\n",
       "      <th></th>\n",
       "      <th></th>\n",
       "      <th></th>\n",
       "      <th></th>\n",
       "      <th></th>\n",
       "    </tr>\n",
       "  </thead>\n",
       "  <tbody>\n",
       "    <tr>\n",
       "      <th>South Italian</th>\n",
       "      <td>Italy</td>\n",
       "      <td>ITA</td>\n",
       "      <td>Vulnerable</td>\n",
       "      <td>7500000.0</td>\n",
       "      <td>40.9798</td>\n",
       "      <td>15.2490</td>\n",
       "      <td>1.714074</td>\n",
       "      <td>35.0</td>\n",
       "      <td>55.77</td>\n",
       "      <td>Moderate Proficiency</td>\n",
       "      <td>1</td>\n",
       "      <td>9.443374e+11</td>\n",
       "    </tr>\n",
       "    <tr>\n",
       "      <th>Sicilian</th>\n",
       "      <td>Italy</td>\n",
       "      <td>ITA</td>\n",
       "      <td>Vulnerable</td>\n",
       "      <td>5000000.0</td>\n",
       "      <td>37.4399</td>\n",
       "      <td>14.5019</td>\n",
       "      <td>1.714074</td>\n",
       "      <td>35.0</td>\n",
       "      <td>55.77</td>\n",
       "      <td>Moderate Proficiency</td>\n",
       "      <td>1</td>\n",
       "      <td>9.443374e+11</td>\n",
       "    </tr>\n",
       "  </tbody>\n",
       "</table>\n",
       "</div>"
      ],
      "text/plain": [
       "              Countries Where Spoken Country Code Degree of Endangerment  \\\n",
       "Language                                                                   \n",
       "South Italian                  Italy          ITA             Vulnerable   \n",
       "Sicilian                       Italy          ITA             Vulnerable   \n",
       "\n",
       "                Speakers  Latitude  Longitude  Fertility Rate Avg  2018 Rank  \\\n",
       "Language                                                                       \n",
       "South Italian  7500000.0   40.9798    15.2490            1.714074       35.0   \n",
       "Sicilian       5000000.0   37.4399    14.5019            1.714074       35.0   \n",
       "\n",
       "               2018 Score             2018 Band  Number of Countries Spoken  \\\n",
       "Language                                                                      \n",
       "South Italian       55.77  Moderate Proficiency                           1   \n",
       "Sicilian            55.77  Moderate Proficiency                           1   \n",
       "\n",
       "               GDP Average (Current US $)  \n",
       "Language                                   \n",
       "South Italian                9.443374e+11  \n",
       "Sicilian                     9.443374e+11  "
      ]
     },
     "execution_count": 11,
     "metadata": {},
     "output_type": "execute_result"
    }
   ],
   "source": [
    "speakers.head(2)"
   ]
  },
  {
   "cell_type": "code",
   "execution_count": 12,
   "metadata": {
    "collapsed": false
   },
   "outputs": [
    {
     "data": {
      "text/plain": [
       "array(['South Italian', 'Sicilian', 'Lombard', ..., 'Mo-peng', 'Sei',\n",
       "       'Island Carib'], dtype=object)"
      ]
     },
     "execution_count": 12,
     "metadata": {},
     "output_type": "execute_result"
    }
   ],
   "source": [
    "speakers.index.values"
   ]
  },
  {
   "cell_type": "code",
   "execution_count": 13,
   "metadata": {
    "collapsed": false
   },
   "outputs": [],
   "source": [
    "import seaborn as sns"
   ]
  },
  {
   "cell_type": "code",
   "execution_count": 14,
   "metadata": {
    "collapsed": false
   },
   "outputs": [
    {
     "data": {
      "text/plain": [
       "<seaborn.axisgrid.FacetGrid at 0x1225c13c8>"
      ]
     },
     "execution_count": 14,
     "metadata": {},
     "output_type": "execute_result"
    },
    {
     "data": {
      "image/png": "[encoded data removed]",
      "text/plain": [
       "<Figure size 360x360 with 1 Axes>"
      ]
     },
     "metadata": {
      "needs_background": "light"
     },
     "output_type": "display_data"
    }
   ],
   "source": [
    "sns.lmplot(x='Speakers', y='GDP Average (Current US $)', data=speakers)"
   ]
  },
  {
   "cell_type": "code",
   "execution_count": 16,
   "metadata": {
    "collapsed": false
   },
   "outputs": [
    {
     "name": "stdout",
     "output_type": "stream",
     "text": [
      "<class 'pandas.core.frame.DataFrame'>\n",
      "Index: 2514 entries, South Italian to Island Carib\n",
      "Data columns (total 12 columns):\n",
      "Countries Where Spoken        2514 non-null object\n",
      "Country Code                  2514 non-null object\n",
      "Degree of Endangerment        2514 non-null object\n",
      "Speakers                      2514 non-null float64\n",
      "Latitude                      2511 non-null float64\n",
      "Longitude                     2511 non-null float64\n",
      "Fertility Rate Avg            2514 non-null float64\n",
      "2018 Rank                     1933 non-null float64\n",
      "2018 Score                    1933 non-null float64\n",
      "2018 Band                     1933 non-null object\n",
      "Number of Countries Spoken    2514 non-null int64\n",
      "GDP Average (Current US $)    2514 non-null float64\n",
      "dtypes: float64(7), int64(1), object(4)\n",
      "memory usage: 335.3+ KB\n"
     ]
    }
   ],
   "source": [
    "speakers.info()"
   ]
  },
  {
   "cell_type": "code",
   "execution_count": 17,
   "metadata": {
    "collapsed": true
   },
   "outputs": [],
   "source": [
    "endangered_languages_complete = endangered_languages.dropna()"
   ]
  },
  {
   "cell_type": "code",
   "execution_count": 18,
   "metadata": {
    "collapsed": false
   },
   "outputs": [
    {
     "name": "stdout",
     "output_type": "stream",
     "text": [
      "<class 'pandas.core.frame.DataFrame'>\n",
      "Index: 1931 entries, South Italian to Island Carib\n",
      "Data columns (total 12 columns):\n",
      "Countries Where Spoken        1931 non-null object\n",
      "Country Code                  1931 non-null object\n",
      "Degree of Endangerment        1931 non-null object\n",
      "Speakers                      1931 non-null float64\n",
      "Latitude                      1931 non-null float64\n",
      "Longitude                     1931 non-null float64\n",
      "Fertility Rate Avg            1931 non-null float64\n",
      "2018 Rank                     1931 non-null float64\n",
      "2018 Score                    1931 non-null float64\n",
      "2018 Band                     1931 non-null object\n",
      "Number of Countries Spoken    1931 non-null int64\n",
      "GDP Average (Current US $)    1931 non-null float64\n",
      "dtypes: float64(7), int64(1), object(4)\n",
      "memory usage: 196.1+ KB\n"
     ]
    }
   ],
   "source": [
    "endangered_languages_complete.info()"
   ]
  },
  {
   "cell_type": "code",
   "execution_count": 19,
   "metadata": {
    "collapsed": false
   },
   "outputs": [
    {
     "data": {
      "image/png": "[encoded data removed]",
      "text/plain": [
       "<Figure size 432x288 with 1 Axes>"
      ]
     },
     "metadata": {
      "needs_background": "light"
     },
     "output_type": "display_data"
    }
   ],
   "source": [
    "ax = sns.barplot(x='Degree of Endangerment', y='2018 Rank', data=endangered_languages_complete)"
   ]
  },
  {
   "cell_type": "code",
   "execution_count": 22,
   "metadata": {
    "collapsed": true
   },
   "outputs": [],
   "source": [
    "italy = endangered_languages_complete.groupby(endangered_languages_complete['Country Code']).get_group('ITA')"
   ]
  },
  {
   "cell_type": "code",
   "execution_count": 26,
   "metadata": {
    "collapsed": false
   },
   "outputs": [
    {
     "data": {
      "image/png": "[encoded data removed]",
      "text/plain": [
       "<Figure size 432x288 with 1 Axes>"
      ]
     },
     "metadata": {
      "needs_background": "light"
     },
     "output_type": "display_data"
    }
   ],
   "source": [
    "it = sns.boxplot(x='Degree of Endangerment', y='Number of Countries Spoken', data=italy)"
   ]
  },
  {
   "cell_type": "code",
   "execution_count": 31,
   "metadata": {
    "collapsed": false
   },
   "outputs": [
    {
     "data": {
      "image/png": "[encoded data removed]",
      "text/plain": [
       "<Figure size 432x288 with 1 Axes>"
      ]
     },
     "metadata": {
      "needs_background": "light"
     },
     "output_type": "display_data"
    }
   ],
   "source": [
    "import matplotlib.pyplot as plt\n",
    "endangered_languages_complete.plot(kind='hist', y='Speakers', bins=50)\n",
    "plt.show()"
   ]
  },
  {
   "cell_type": "code",
   "execution_count": 33,
   "metadata": {
    "collapsed": false
   },
   "outputs": [
    {
     "data": {
      "image/png": "[encoded data removed]",
      "text/plain": [
       "<Figure size 432x288 with 1 Axes>"
      ]
     },
     "metadata": {
      "needs_background": "light"
     },
     "output_type": "display_data"
    }
   ],
   "source": [
    "endangered_languages_complete.plot(x='Degree of Endangerment')\n",
    "plt.show()"
   ]
  },
  {
   "cell_type": "code",
   "execution_count": 34,
   "metadata": {
    "collapsed": false
   },
   "outputs": [
    {
     "data": {
      "text/html": [
       "<div>\n",
       "<style scoped>\n",
       "    .dataframe tbody tr th:only-of-type {\n",
       "        vertical-align: middle;\n",
       "    }\n",
       "\n",
       "    .dataframe tbody tr th {\n",
       "        vertical-align: top;\n",
       "    }\n",
       "\n",
       "    .dataframe thead th {\n",
       "        text-align: right;\n",
       "    }\n",
       "</style>\n",
       "<table border=\"1\" class=\"dataframe\">\n",
       "  <thead>\n",
       "    <tr style=\"text-align: right;\">\n",
       "      <th></th>\n",
       "      <th>Countries Where Spoken</th>\n",
       "      <th>Country Code</th>\n",
       "      <th>Degree of Endangerment</th>\n",
       "      <th>Speakers</th>\n",
       "      <th>Latitude</th>\n",
       "      <th>Longitude</th>\n",
       "      <th>Fertility Rate Avg</th>\n",
       "      <th>2018 Rank</th>\n",
       "      <th>2018 Score</th>\n",
       "      <th>2018 Band</th>\n",
       "      <th>Number of Countries Spoken</th>\n",
       "      <th>GDP Average (Current US $)</th>\n",
       "    </tr>\n",
       "    <tr>\n",
       "      <th>Language</th>\n",
       "      <th></th>\n",
       "      <th></th>\n",
       "      <th></th>\n",
       "      <th></th>\n",
       "      <th></th>\n",
       "      <th></th>\n",
       "      <th></th>\n",
       "      <th></th>\n",
       "      <th></th>\n",
       "      <th></th>\n",
       "      <th></th>\n",
       "      <th></th>\n",
       "    </tr>\n",
       "  </thead>\n",
       "  <tbody>\n",
       "    <tr>\n",
       "      <th>|Xam</th>\n",
       "      <td>South Africa</td>\n",
       "      <td>ZAF</td>\n",
       "      <td>Extinct</td>\n",
       "      <td>0.0</td>\n",
       "      <td>-32.2853</td>\n",
       "      <td>20.7590</td>\n",
       "      <td>4.146000</td>\n",
       "      <td>7.0</td>\n",
       "      <td>66.52</td>\n",
       "      <td>Very High Proficiency</td>\n",
       "      <td>1</td>\n",
       "      <td>1.350331e+11</td>\n",
       "    </tr>\n",
       "    <tr>\n",
       "      <th>ǁKu ǁ'e</th>\n",
       "      <td>South Africa</td>\n",
       "      <td>ZAF</td>\n",
       "      <td>Extinct</td>\n",
       "      <td>0.0</td>\n",
       "      <td>-29.9739</td>\n",
       "      <td>27.0812</td>\n",
       "      <td>4.146000</td>\n",
       "      <td>7.0</td>\n",
       "      <td>66.52</td>\n",
       "      <td>Very High Proficiency</td>\n",
       "      <td>1</td>\n",
       "      <td>1.350331e+11</td>\n",
       "    </tr>\n",
       "    <tr>\n",
       "      <th>ǁKx'au</th>\n",
       "      <td>South Africa</td>\n",
       "      <td>ZAF</td>\n",
       "      <td>Extinct</td>\n",
       "      <td>0.0</td>\n",
       "      <td>-32.2896</td>\n",
       "      <td>21.7968</td>\n",
       "      <td>4.146000</td>\n",
       "      <td>7.0</td>\n",
       "      <td>66.52</td>\n",
       "      <td>Very High Proficiency</td>\n",
       "      <td>1</td>\n",
       "      <td>1.350331e+11</td>\n",
       "    </tr>\n",
       "    <tr>\n",
       "      <th>ǁXegwi</th>\n",
       "      <td>South Africa</td>\n",
       "      <td>ZAF</td>\n",
       "      <td>Extinct</td>\n",
       "      <td>0.0</td>\n",
       "      <td>-25.3500</td>\n",
       "      <td>30.9900</td>\n",
       "      <td>4.146000</td>\n",
       "      <td>7.0</td>\n",
       "      <td>66.52</td>\n",
       "      <td>Very High Proficiency</td>\n",
       "      <td>1</td>\n",
       "      <td>1.350331e+11</td>\n",
       "    </tr>\n",
       "    <tr>\n",
       "      <th>Karaim (Lithuania)</th>\n",
       "      <td>Lithuania</td>\n",
       "      <td>LTU</td>\n",
       "      <td>Severely endangered</td>\n",
       "      <td>50.0</td>\n",
       "      <td>54.6420</td>\n",
       "      <td>24.9499</td>\n",
       "      <td>1.896111</td>\n",
       "      <td>27.0</td>\n",
       "      <td>57.81</td>\n",
       "      <td>High Proficiency</td>\n",
       "      <td>1</td>\n",
       "      <td>2.866575e+10</td>\n",
       "    </tr>\n",
       "    <tr>\n",
       "      <th>Island Carib</th>\n",
       "      <td>Dominica</td>\n",
       "      <td>DMA</td>\n",
       "      <td>Extinct</td>\n",
       "      <td>0.0</td>\n",
       "      <td>15.4325</td>\n",
       "      <td>-61.2817</td>\n",
       "      <td>2.888571</td>\n",
       "      <td>38.0</td>\n",
       "      <td>54.97</td>\n",
       "      <td>Moderate Proficiency</td>\n",
       "      <td>1</td>\n",
       "      <td>2.932216e+08</td>\n",
       "    </tr>\n",
       "  </tbody>\n",
       "</table>\n",
       "</div>"
      ],
      "text/plain": [
       "                   Countries Where Spoken Country Code Degree of Endangerment  \\\n",
       "Language                                                                        \n",
       "|Xam                         South Africa          ZAF                Extinct   \n",
       "ǁKu ǁ'e                      South Africa          ZAF                Extinct   \n",
       "ǁKx'au                       South Africa          ZAF                Extinct   \n",
       "ǁXegwi                       South Africa          ZAF                Extinct   \n",
       "Karaim (Lithuania)              Lithuania          LTU    Severely endangered   \n",
       "Island Carib                     Dominica          DMA                Extinct   \n",
       "\n",
       "                    Speakers  Latitude  Longitude  Fertility Rate Avg  \\\n",
       "Language                                                                \n",
       "|Xam                     0.0  -32.2853    20.7590            4.146000   \n",
       "ǁKu ǁ'e                  0.0  -29.9739    27.0812            4.146000   \n",
       "ǁKx'au                   0.0  -32.2896    21.7968            4.146000   \n",
       "ǁXegwi                   0.0  -25.3500    30.9900            4.146000   \n",
       "Karaim (Lithuania)      50.0   54.6420    24.9499            1.896111   \n",
       "Island Carib             0.0   15.4325   -61.2817            2.888571   \n",
       "\n",
       "                    2018 Rank  2018 Score              2018 Band  \\\n",
       "Language                                                           \n",
       "|Xam                      7.0       66.52  Very High Proficiency   \n",
       "ǁKu ǁ'e                   7.0       66.52  Very High Proficiency   \n",
       "ǁKx'au                    7.0       66.52  Very High Proficiency   \n",
       "ǁXegwi                    7.0       66.52  Very High Proficiency   \n",
       "Karaim (Lithuania)       27.0       57.81       High Proficiency   \n",
       "Island Carib             38.0       54.97   Moderate Proficiency   \n",
       "\n",
       "                    Number of Countries Spoken  GDP Average (Current US $)  \n",
       "Language                                                                    \n",
       "|Xam                                         1                1.350331e+11  \n",
       "ǁKu ǁ'e                                      1                1.350331e+11  \n",
       "ǁKx'au                                       1                1.350331e+11  \n",
       "ǁXegwi                                       1                1.350331e+11  \n",
       "Karaim (Lithuania)                           1                2.866575e+10  \n",
       "Island Carib                                 1                2.932216e+08  "
      ]
     },
     "execution_count": 34,
     "metadata": {},
     "output_type": "execute_result"
    }
   ],
   "source": [
    "endangered_languages_complete.tail(6)"
   ]
  },
  {
   "cell_type": "code",
   "execution_count": 37,
   "metadata": {
    "collapsed": false
   },
   "outputs": [
    {
     "data": {
      "text/plain": [
       "<matplotlib.axes._subplots.AxesSubplot at 0x1273cf9b0>"
      ]
     },
     "execution_count": 37,
     "metadata": {},
     "output_type": "execute_result"
    },
    {
     "data": {
      "image/png": "[encoded data removed]",
      "text/plain": [
       "<Figure size 432x288 with 1 Axes>"
      ]
     },
     "metadata": {
      "needs_background": "light"
     },
     "output_type": "display_data"
    }
   ],
   "source": [
    "italy[['Number of Countries Spoken']].plot(kind='bar')"
   ]
  },
  {
   "cell_type": "code",
   "execution_count": 38,
   "metadata": {
    "collapsed": true
   },
   "outputs": [],
   "source": [
    "high_proficiency = endangered_languages_complete.groupby(['2018 Band']).get_group('High Proficiency')"
   ]
  },
  {
   "cell_type": "code",
   "execution_count": 40,
   "metadata": {
    "collapsed": false
   },
   "outputs": [
    {
     "data": {
      "text/html": [
       "<div>\n",
       "<style scoped>\n",
       "    .dataframe tbody tr th:only-of-type {\n",
       "        vertical-align: middle;\n",
       "    }\n",
       "\n",
       "    .dataframe tbody tr th {\n",
       "        vertical-align: top;\n",
       "    }\n",
       "\n",
       "    .dataframe thead th {\n",
       "        text-align: right;\n",
       "    }\n",
       "</style>\n",
       "<table border=\"1\" class=\"dataframe\">\n",
       "  <thead>\n",
       "    <tr style=\"text-align: right;\">\n",
       "      <th></th>\n",
       "      <th>Countries Where Spoken</th>\n",
       "      <th>Country Code</th>\n",
       "      <th>Degree of Endangerment</th>\n",
       "      <th>Speakers</th>\n",
       "      <th>Latitude</th>\n",
       "      <th>Longitude</th>\n",
       "      <th>Fertility Rate Avg</th>\n",
       "      <th>2018 Rank</th>\n",
       "      <th>2018 Score</th>\n",
       "      <th>2018 Band</th>\n",
       "      <th>Number of Countries Spoken</th>\n",
       "      <th>GDP Average (Current US $)</th>\n",
       "    </tr>\n",
       "    <tr>\n",
       "      <th>Language</th>\n",
       "      <th></th>\n",
       "      <th></th>\n",
       "      <th></th>\n",
       "      <th></th>\n",
       "      <th></th>\n",
       "      <th></th>\n",
       "      <th></th>\n",
       "      <th></th>\n",
       "      <th></th>\n",
       "      <th></th>\n",
       "      <th></th>\n",
       "      <th></th>\n",
       "    </tr>\n",
       "  </thead>\n",
       "  <tbody>\n",
       "    <tr>\n",
       "      <th>Venetan</th>\n",
       "      <td>Croatia, Italy, Slovenia</td>\n",
       "      <td>HRV</td>\n",
       "      <td>Vulnerable</td>\n",
       "      <td>2000000.0</td>\n",
       "      <td>45.4601</td>\n",
       "      <td>12.1948</td>\n",
       "      <td>1.782148</td>\n",
       "      <td>18.0</td>\n",
       "      <td>60.16</td>\n",
       "      <td>High Proficiency</td>\n",
       "      <td>3</td>\n",
       "      <td>4.377542e+10</td>\n",
       "    </tr>\n",
       "    <tr>\n",
       "      <th>Vojvodina Rusyn</th>\n",
       "      <td>Croatia, Serbia</td>\n",
       "      <td>HRV</td>\n",
       "      <td>Definitely endangered</td>\n",
       "      <td>30000.0</td>\n",
       "      <td>45.6351</td>\n",
       "      <td>19.1903</td>\n",
       "      <td>1.782148</td>\n",
       "      <td>18.0</td>\n",
       "      <td>60.16</td>\n",
       "      <td>High Proficiency</td>\n",
       "      <td>2</td>\n",
       "      <td>4.377542e+10</td>\n",
       "    </tr>\n",
       "    <tr>\n",
       "      <th>Arbanasi</th>\n",
       "      <td>Croatia</td>\n",
       "      <td>HRV</td>\n",
       "      <td>Severely endangered</td>\n",
       "      <td>500.0</td>\n",
       "      <td>44.0994</td>\n",
       "      <td>15.2545</td>\n",
       "      <td>1.782148</td>\n",
       "      <td>18.0</td>\n",
       "      <td>60.16</td>\n",
       "      <td>High Proficiency</td>\n",
       "      <td>1</td>\n",
       "      <td>4.377542e+10</td>\n",
       "    </tr>\n",
       "    <tr>\n",
       "      <th>Istriot</th>\n",
       "      <td>Croatia</td>\n",
       "      <td>HRV</td>\n",
       "      <td>Severely endangered</td>\n",
       "      <td>400.0</td>\n",
       "      <td>45.0541</td>\n",
       "      <td>13.7246</td>\n",
       "      <td>1.782148</td>\n",
       "      <td>18.0</td>\n",
       "      <td>60.16</td>\n",
       "      <td>High Proficiency</td>\n",
       "      <td>1</td>\n",
       "      <td>4.377542e+10</td>\n",
       "    </tr>\n",
       "    <tr>\n",
       "      <th>Istro-Romanian</th>\n",
       "      <td>Croatia</td>\n",
       "      <td>HRV</td>\n",
       "      <td>Severely endangered</td>\n",
       "      <td>300.0</td>\n",
       "      <td>45.3907</td>\n",
       "      <td>14.4360</td>\n",
       "      <td>1.782148</td>\n",
       "      <td>18.0</td>\n",
       "      <td>60.16</td>\n",
       "      <td>High Proficiency</td>\n",
       "      <td>1</td>\n",
       "      <td>4.377542e+10</td>\n",
       "    </tr>\n",
       "  </tbody>\n",
       "</table>\n",
       "</div>"
      ],
      "text/plain": [
       "                   Countries Where Spoken Country Code Degree of Endangerment  \\\n",
       "Language                                                                        \n",
       "Venetan          Croatia, Italy, Slovenia          HRV             Vulnerable   \n",
       "Vojvodina Rusyn           Croatia, Serbia          HRV  Definitely endangered   \n",
       "Arbanasi                          Croatia          HRV    Severely endangered   \n",
       "Istriot                           Croatia          HRV    Severely endangered   \n",
       "Istro-Romanian                    Croatia          HRV    Severely endangered   \n",
       "\n",
       "                  Speakers  Latitude  Longitude  Fertility Rate Avg  \\\n",
       "Language                                                              \n",
       "Venetan          2000000.0   45.4601    12.1948            1.782148   \n",
       "Vojvodina Rusyn    30000.0   45.6351    19.1903            1.782148   \n",
       "Arbanasi             500.0   44.0994    15.2545            1.782148   \n",
       "Istriot              400.0   45.0541    13.7246            1.782148   \n",
       "Istro-Romanian       300.0   45.3907    14.4360            1.782148   \n",
       "\n",
       "                 2018 Rank  2018 Score         2018 Band  \\\n",
       "Language                                                   \n",
       "Venetan               18.0       60.16  High Proficiency   \n",
       "Vojvodina Rusyn       18.0       60.16  High Proficiency   \n",
       "Arbanasi              18.0       60.16  High Proficiency   \n",
       "Istriot               18.0       60.16  High Proficiency   \n",
       "Istro-Romanian        18.0       60.16  High Proficiency   \n",
       "\n",
       "                 Number of Countries Spoken  GDP Average (Current US $)  \n",
       "Language                                                                 \n",
       "Venetan                                   3                4.377542e+10  \n",
       "Vojvodina Rusyn                           2                4.377542e+10  \n",
       "Arbanasi                                  1                4.377542e+10  \n",
       "Istriot                                   1                4.377542e+10  \n",
       "Istro-Romanian                            1                4.377542e+10  "
      ]
     },
     "execution_count": 40,
     "metadata": {},
     "output_type": "execute_result"
    }
   ],
   "source": [
    "high_proficiency.head()"
   ]
  },
  {
   "cell_type": "code",
   "execution_count": 41,
   "metadata": {
    "collapsed": false
   },
   "outputs": [
    {
     "data": {
      "text/plain": [
       "<matplotlib.axes._subplots.AxesSubplot at 0x129941320>"
      ]
     },
     "execution_count": 41,
     "metadata": {},
     "output_type": "execute_result"
    },
    {
     "data": {
      "image/png": "[encoded data removed]",
      "text/plain": [
       "<Figure size 432x288 with 1 Axes>"
      ]
     },
     "metadata": {
      "needs_background": "light"
     },
     "output_type": "display_data"
    }
   ],
   "source": [
    "high_proficiency[['Number of Countries Spoken']].plot(kind='bar')"
   ]
  },
  {
   "cell_type": "code",
   "execution_count": 42,
   "metadata": {
    "collapsed": false
   },
   "outputs": [
    {
     "name": "stdout",
     "output_type": "stream",
     "text": [
      "<class 'pandas.core.frame.DataFrame'>\n",
      "Index: 74 entries, Venetan to Karaim (Lithuania)\n",
      "Data columns (total 12 columns):\n",
      "Countries Where Spoken        74 non-null object\n",
      "Country Code                  74 non-null object\n",
      "Degree of Endangerment        74 non-null object\n",
      "Speakers                      74 non-null float64\n",
      "Latitude                      74 non-null float64\n",
      "Longitude                     74 non-null float64\n",
      "Fertility Rate Avg            74 non-null float64\n",
      "2018 Rank                     74 non-null float64\n",
      "2018 Score                    74 non-null float64\n",
      "2018 Band                     74 non-null object\n",
      "Number of Countries Spoken    74 non-null int64\n",
      "GDP Average (Current US $)    74 non-null float64\n",
      "dtypes: float64(7), int64(1), object(4)\n",
      "memory usage: 7.5+ KB\n"
     ]
    }
   ],
   "source": [
    "high_proficiency.plot(kind='bar', x)"
   ]
  },
  {
   "cell_type": "code",
   "execution_count": null,
   "metadata": {
    "collapsed": true
   },
   "outputs": [],
   "source": []
  }
 ],
 "metadata": {
  "kernelspec": {
   "display_name": "Python 3",
   "language": "python",
   "name": "python3"
  },
  "language_info": {
   "codemirror_mode": {
    "name": "ipython",
    "version": 3
   },
   "file_extension": ".py",
   "mimetype": "text/x-python",
   "name": "python",
   "nbconvert_exporter": "python",
   "pygments_lexer": "ipython3",
   "version": "3.6.3"
  }
 },
 "nbformat": 4,
 "nbformat_minor": 0
}
