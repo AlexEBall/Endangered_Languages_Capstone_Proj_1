{
 "cells": [
  {
   "cell_type": "code",
   "execution_count": 1,
   "metadata": {
    "collapsed": false
   },
   "outputs": [],
   "source": [
    "import pandas as pd\n",
    "import matplotlib.pyplot as plt\n",
    "\n",
    "fertility_rate = pd.read_csv('./data_sets/')"
   ]
  },
  {
   "cell_type": "code",
   "execution_count": 86,
   "metadata": {
    "collapsed": false
   },
   "outputs": [],
   "source": [
    "fr_clean = fertility_rate_df_average[['Country Code', 'Fertility Rate Avg']]"
   ]
  },
  {
   "cell_type": "code",
   "execution_count": 87,
   "metadata": {
    "collapsed": false
   },
   "outputs": [],
   "source": [
    "together = pd.merge(endangered_languages, fr_clean,\n",
    "                    left_on='Country codes alpha 3', right_on='Country Code', how='inner')"
   ]
  },
  {
   "cell_type": "code",
   "execution_count": 91,
   "metadata": {
    "collapsed": false
   },
   "outputs": [
    {
     "data": {
      "text/html": [
       "<div>\n",
       "<style scoped>\n",
       "    .dataframe tbody tr th:only-of-type {\n",
       "        vertical-align: middle;\n",
       "    }\n",
       "\n",
       "    .dataframe tbody tr th {\n",
       "        vertical-align: top;\n",
       "    }\n",
       "\n",
       "    .dataframe thead th {\n",
       "        text-align: right;\n",
       "    }\n",
       "</style>\n",
       "<table border=\"1\" class=\"dataframe\">\n",
       "  <thead>\n",
       "    <tr style=\"text-align: right;\">\n",
       "      <th></th>\n",
       "      <th>Name in English</th>\n",
       "      <th>Countries</th>\n",
       "      <th>Country codes alpha 3</th>\n",
       "      <th>Degree of endangerment</th>\n",
       "      <th>Number of speakers</th>\n",
       "      <th>Latitude</th>\n",
       "      <th>Longitude</th>\n",
       "      <th>Country Code</th>\n",
       "      <th>Fertility Rate Avg</th>\n",
       "    </tr>\n",
       "  </thead>\n",
       "  <tbody>\n",
       "    <tr>\n",
       "      <th>2693</th>\n",
       "      <td>Sei</td>\n",
       "      <td>Sierra Leone</td>\n",
       "      <td>SLE</td>\n",
       "      <td>Extinct</td>\n",
       "      <td>0.0</td>\n",
       "      <td>7.5857</td>\n",
       "      <td>-12.5354</td>\n",
       "      <td>SLE</td>\n",
       "      <td>6.256426</td>\n",
       "    </tr>\n",
       "    <tr>\n",
       "      <th>2694</th>\n",
       "      <td>Island Carib</td>\n",
       "      <td>Dominica</td>\n",
       "      <td>DMA</td>\n",
       "      <td>Extinct</td>\n",
       "      <td>0.0</td>\n",
       "      <td>15.4325</td>\n",
       "      <td>-61.2817</td>\n",
       "      <td>DMA</td>\n",
       "      <td>2.888571</td>\n",
       "    </tr>\n",
       "    <tr>\n",
       "      <th>2695</th>\n",
       "      <td>Gottscheerish</td>\n",
       "      <td>Slovenia</td>\n",
       "      <td>SVN</td>\n",
       "      <td>Critically endangered</td>\n",
       "      <td>NaN</td>\n",
       "      <td>45.6332</td>\n",
       "      <td>14.8123</td>\n",
       "      <td>SVN</td>\n",
       "      <td>1.768704</td>\n",
       "    </tr>\n",
       "    <tr>\n",
       "      <th>2696</th>\n",
       "      <td>Jeju</td>\n",
       "      <td>Republic of Korea</td>\n",
       "      <td>KOR</td>\n",
       "      <td>Critically endangered</td>\n",
       "      <td>NaN</td>\n",
       "      <td>33.3671</td>\n",
       "      <td>126.4974</td>\n",
       "      <td>KOR</td>\n",
       "      <td>2.622148</td>\n",
       "    </tr>\n",
       "    <tr>\n",
       "      <th>2697</th>\n",
       "      <td>Scanian</td>\n",
       "      <td>Denmark, Sweden</td>\n",
       "      <td>DNK</td>\n",
       "      <td>Vulnerable</td>\n",
       "      <td>NaN</td>\n",
       "      <td>55.7240</td>\n",
       "      <td>13.6614</td>\n",
       "      <td>DNK</td>\n",
       "      <td>1.858889</td>\n",
       "    </tr>\n",
       "  </tbody>\n",
       "</table>\n",
       "</div>"
      ],
      "text/plain": [
       "     Name in English          Countries Country codes alpha 3  \\\n",
       "2693             Sei       Sierra Leone                   SLE   \n",
       "2694    Island Carib           Dominica                   DMA   \n",
       "2695   Gottscheerish           Slovenia                   SVN   \n",
       "2696            Jeju  Republic of Korea                   KOR   \n",
       "2697         Scanian    Denmark, Sweden                   DNK   \n",
       "\n",
       "     Degree of endangerment  Number of speakers  Latitude  Longitude  \\\n",
       "2693                Extinct                 0.0    7.5857   -12.5354   \n",
       "2694                Extinct                 0.0   15.4325   -61.2817   \n",
       "2695  Critically endangered                 NaN   45.6332    14.8123   \n",
       "2696  Critically endangered                 NaN   33.3671   126.4974   \n",
       "2697             Vulnerable                 NaN   55.7240    13.6614   \n",
       "\n",
       "     Country Code  Fertility Rate Avg  \n",
       "2693          SLE            6.256426  \n",
       "2694          DMA            2.888571  \n",
       "2695          SVN            1.768704  \n",
       "2696          KOR            2.622148  \n",
       "2697          DNK            1.858889  "
      ]
     },
     "execution_count": 91,
     "metadata": {},
     "output_type": "execute_result"
    }
   ],
   "source": [
    "together.tail()"
   ]
  },
  {
   "cell_type": "code",
   "execution_count": 93,
   "metadata": {
    "collapsed": false
   },
   "outputs": [],
   "source": [
    "degree = together.groupby('Degree of endangerment')"
   ]
  },
  {
   "cell_type": "code",
   "execution_count": 106,
   "metadata": {
    "collapsed": false
   },
   "outputs": [],
   "source": [
    "severely_endangered = degree.get_group('Severely endangered')"
   ]
  },
  {
   "cell_type": "code",
   "execution_count": 107,
   "metadata": {
    "collapsed": false
   },
   "outputs": [
    {
     "data": {
      "image/png": "[encoded data removed]",
      "text/plain": [
       "<Figure size 432x288 with 1 Axes>"
      ]
     },
     "metadata": {
      "needs_background": "light"
     },
     "output_type": "display_data"
    }
   ],
   "source": [
    "severely_endangered.plot(kind='scatter', y='Number of speakers', x='Fertility Rate Avg')\n",
    "plt.show()"
   ]
  },
  {
   "cell_type": "code",
   "execution_count": null,
   "metadata": {
    "collapsed": true
   },
   "outputs": [],
   "source": []
  }
 ],
 "metadata": {
  "kernelspec": {
   "display_name": "Python 3",
   "language": "python",
   "name": "python3"
  },
  "language_info": {
   "codemirror_mode": {
    "name": "ipython",
    "version": 3
   },
   "file_extension": ".py",
   "mimetype": "text/x-python",
   "name": "python",
   "nbconvert_exporter": "python",
   "pygments_lexer": "ipython3",
   "version": "3.6.3"
  }
 },
 "nbformat": 4,
 "nbformat_minor": 0
}
