{
 "cells": [
  {
   "cell_type": "code",
   "execution_count": 1,
   "metadata": {
    "collapsed": true
   },
   "outputs": [],
   "source": [
    "import pandas as pd\n",
    "\n",
    "gdp = pd.read_csv('./data_sets/world_bank_gdp_data.csv', skiprows=[2], header=1, index_col=0)\n",
    "\n",
    "needed_data = ['Country Code', '1960', '1961',\n",
    "               '1962', '1963', '1964', '1965', '1966', '1967', '1968', '1969', '1970',\n",
    "               '1971', '1972', '1973', '1974', '1975', '1976', '1977', '1978', '1979',\n",
    "               '1980', '1981', '1982', '1983', '1984', '1985', '1986', '1987', '1988',\n",
    "               '1989', '1990', '1991', '1992', '1993', '1994', '1995', '1996', '1997',\n",
    "               '1998', '1999', '2000', '2001', '2002', '2003', '2004', '2005', '2006',\n",
    "               '2007', '2008', '2009', '2010', '2011', '2012', '2013', '2014', '2015',\n",
    "               '2016', '2017']\n",
    "gdp = gdp[needed_data]\n",
    "\n",
    "gdp['GDP Average (Current US $)'] = gdp.mean(numeric_only=True, axis=1)\n",
    "\n",
    "gdp_data_to_merge = gdp[['Country Code', 'GDP Average (Current US $)']]\n",
    "\n",
    "gdp.to_csv('./data_sets/gdp_data_cleaned.csv', index=False)\n",
    "gdp_data_to_merge.to_csv('./data_sets/gdp_data_to_merge.csv', index=False)"
   ]
  },
  {
   "cell_type": "code",
   "execution_count": null,
   "metadata": {
    "collapsed": true
   },
   "outputs": [],
   "source": []
  }
 ],
 "metadata": {
  "kernelspec": {
   "display_name": "Python 3",
   "language": "python",
   "name": "python3"
  },
  "language_info": {
   "codemirror_mode": {
    "name": "ipython",
    "version": 3
   },
   "file_extension": ".py",
   "mimetype": "text/x-python",
   "name": "python",
   "nbconvert_exporter": "python",
   "pygments_lexer": "ipython3",
   "version": "3.6.3"
  }
 },
 "nbformat": 4,
 "nbformat_minor": 0
}
