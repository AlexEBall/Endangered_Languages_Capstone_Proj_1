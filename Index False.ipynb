{
 "cells": [
  {
   "cell_type": "code",
   "execution_count": 1,
   "metadata": {
    "collapsed": true
   },
   "outputs": [],
   "source": [
    "import pandas as pd\n",
    "\n",
    "fertility_rate = pd.read_csv('./data_sets/Fertility_Rate_to_Merge.csv')\n",
    "endangered_languages = pd.read_csv('./data_sets/Endangered_Languages_Clean.csv')\n",
    "english_proficiency = pd.read_csv('./data_sets/2017_EF_English_Proficiency.csv')\n",
    "country_codes = pd.read_csv('./data_sets/country_codes.csv')\n",
    "\n",
    "together = pd.merge(endangered_languages, fertility_rate, how='inner')\n",
    "together_cleaner = together.drop(['Unnamed: 0'], axis=1)\n",
    "\n",
    "country_codes_cleaner = country_codes.drop(['Unnamed: 0', 'M49 code'], axis=1)\n",
    "eng_proficiency_cleaner = english_proficiency.drop(['Unnamed: 0'], axis=1)\n",
    "\n",
    "together2 = pd.merge(eng_proficiency_cleaner, country_codes_cleaner,\n",
    "                     left_on='Country', right_on='Country or Area', how='inner')\n",
    "\n",
    "together2_minus_dups = together2.drop(['Country or Area'], axis=1)\n",
    "final = pd.merge(together_cleaner, together2_minus_dups,\n",
    "                 left_on='Country Code', right_on='ISO-alpha3 code', how='outer')\n",
    "\n",
    "\n",
    "endangered_lang_potential_final = final.drop(['Country', 'Country Name', 'ISO-alpha3 code'], axis=1)\n",
    "endangered_lang_potential_final = endangered_lang_potential_final.dropna(axis=0, subset=['Language'])\n",
    "\n",
    "endangered_lang_potential_final.to_csv(\n",
    "    './data_sets/endangered_languages_potential_final.csv', index=False)\n"
   ]
  },
  {
   "cell_type": "code",
   "execution_count": null,
   "metadata": {
    "collapsed": true
   },
   "outputs": [],
   "source": []
  }
 ],
 "metadata": {
  "kernelspec": {
   "display_name": "Python 3",
   "language": "python",
   "name": "python3"
  },
  "language_info": {
   "codemirror_mode": {
    "name": "ipython",
    "version": 3
   },
   "file_extension": ".py",
   "mimetype": "text/x-python",
   "name": "python",
   "nbconvert_exporter": "python",
   "pygments_lexer": "ipython3",
   "version": "3.6.3"
  }
 },
 "nbformat": 4,
 "nbformat_minor": 0
}
